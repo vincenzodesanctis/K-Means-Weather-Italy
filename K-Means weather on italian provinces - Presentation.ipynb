{
 "cells": [
  {
   "cell_type": "markdown",
   "metadata": {},
   "source": [
    "# Weather forecasting using K-Means Techniques "
   ]
  },
  {
   "cell_type": "markdown",
   "metadata": {},
   "source": [
    "### Abstract\n",
    "Data mining is a popular concept of mined necessary data from a large set of data. Data mining using clustering is a powerful way to analyze\n",
    "data and gives prediction.<br> **In this project non structural data is used to forecast daily average temperature, humidity, pressure and wind speed of provinces of Italy.**<br> The final step, the result will be calculated on the basis of priority based protocol which is defined based on some mathematical deduction and considerations.\n"
   ]
  },
  {
   "cell_type": "markdown",
   "metadata": {},
   "source": [
    "## 1. Introduction"
   ]
  },
  {
   "cell_type": "markdown",
   "metadata": {},
   "source": [
    "In our human society, products deriving from **agriculture** are one of the essential food, production of the crop is directly depends on the weather. If we predict weather, it will be benefited our farmers and also makes an effect on the national growth. It's very important because it lets people know what is coming and how good/bad the weather will be. With the help of previous storage data, it is possible to predict weather. Analysis and probability give accurate result for prediction. Weather warnings are an important forecast as because it is used to protect human life and wealth. Today's advanced technology is used to find out the pattern of data which have an ability to predict the future atmosphere.<br>\n",
    "Prediction for **car traffic** is another main focus based on weather condition.<br>\n",
    "Last but not least are useful predictions for **tourism** purpose.\n",
    "Use of some specific models or techniques is to find out the tendency of the weather on that particular zone. In a few\n",
    "prediction operations, some advanced numerical analysis has been used.\n"
   ]
  },
  {
   "cell_type": "markdown",
   "metadata": {},
   "source": [
    "<table><tr><th><img src=\"http://monoglass.com/wp-content/uploads/2016/11/Snow-Traffic.jpg\" width=\"300\" >\n",
    "</th><th><img src=\"https://ichef.bbci.co.uk/images/ic/720x405/p06g115h.jpg\" width=\"240\">\n",
    "</th><th><img src=\"https://i.ytimg.com/vi/PazxBbSKFak/maxresdefault.jpg\" width=\"240\" >\n",
    "    </th></tr></table>"
   ]
  },
  {
   "cell_type": "markdown",
   "metadata": {},
   "source": [
    "## 2. Related Work\n",
    "There are several applications that are used for weather prediction. The same approach is also used in population forecasting,\n",
    "voting forecasting, etc. use K-Means clustering on the list of weather category will be developed\n",
    "based on maximum mean values of the cluster. If some new data come, then use incremental K-means of those data. The\n",
    "use of incremental K-means clustering algorithm, it evaluates the particular point of change in the database which performs\n",
    "better than the existing K-means clustering by changing threshold values. Incremental K-means clustering algorithm\n",
    "which is applicable in the periodically incremental environment and dealing with a bulk number of updates. K-Means\n",
    "clustering algorithm is applied to a dynamic database where the data may be frequently updated. Weather forecasting also\n",
    "be done by using artificial neural network.<br>\n",
    "The source of weather data is from yahoo weather portal using a *Yahoo-weather-API* (`https://developer.yahoo.com/weather/`). *Data obtained is a live data and is updated on daily basis.*<br>\n",
    "The source of the italian provinces comes from `http://www.comuni-italiani.it/province.html`<br>\n",
    "The above sources will be **merged, cleaned and normalized**.<br><br>\n",
    "The next step is **statistical description, pricipal component analysis(PCA), outlier detection to be removed and K-Means**. <br>\n",
    "To achieve the taget we will use the following python libreries:\n",
    "- Weather-api \n",
    "- Folium \n",
    "- BeautifulSoup\n",
    "- yweather\n",
    "- scikit-learn"
   ]
  },
  {
   "cell_type": "markdown",
   "metadata": {},
   "source": [
    "## 3. Related Methods\n",
    "#### 3.1 Data mining\n",
    " Data mining is a process which gives knowledge about the dataframe. It applies more computational technique for\n",
    "statistics, machine learning and pattern reorganization of a large database. <br>\n",
    "<img src=\"https://cdncontribute.geeksforgeeks.org/wp-content/uploads/data-mining.png\" width=\"600\"></img>\n",
    "\n",
    "### 3.2 Principal component analysis (PCA)\n",
    "Principal Component Analysis (PCA) is a well-established mathematical technique for reducing the dimensionality of data, while keeping as much variation as possible.\n",
    "PCA achieves dimension reduction by creating new, artificial variables called principal components. Each principal component is a linear combination of the observed variables.\n",
    "PCA is an unsupervised method, meaning that no information about groups is used in the dimension reduction. This means that PCA shows a visual representation of the dominant patterns in a data set.\n",
    "<img src=\"https://upload.wikimedia.org/wikipedia/commons/6/69/Principal_Component_Analysis_of_the_Italian_population.png\" width=\"320px\" style=\"align:center; margin-top: 20px;\"></img>\n",
    "\n",
    "### 3.3 Incremental K-means\n",
    "K means is a technique where count all values in the cluster. Firstly, identify the K cluster center; depending on the k\n",
    "Cluster centers create a cluster. Now the mean value of the cluster is called K-means. In Incremental K-means, data can be\n",
    "inserted at any time. When new data inserted into database, choose nearest cluster and it inserts to that cluster. Find out the new mean value of that cluster. Incremental clustering is designed using the cluster‟s metadata captured from the K-Means results.\n",
    "<img src=\"https://d2908q01vomqb2.cloudfront.net/f1f836cb4ea6efb2a0b1b99f41ad8b103eff4b59/2018/11/02/k-means-sagemaker-1.gif\" width=\"340\"></img>"
   ]
  },
  {
   "cell_type": "markdown",
   "metadata": {},
   "source": [
    "### 4 Data gatering phase: using beautifulsoup and weather python libraries to grab weather labels about italians provinces\n",
    "\n",
    "<img src=\"https://i.ibb.co/vH1gZcV/dataframe.jpg\" alt=\"dataframe\" border=\"0\">"
   ]
  },
  {
   "cell_type": "markdown",
   "metadata": {},
   "source": [
    "### 5. Descriptive analysis phase\n",
    "####  Eliminate outliers (scikit-learn - MinMaxScaler)\n",
    "- we need to eliminate outliers : Virtual appearence of outliers after scaling.\n",
    "- Reason : A more robust machine learning algorithm should be made,free from noise.\n",
    "\n",
    "In general, learning algorithms benefit from standardization of the data set. If some outliers are present in the set, robust scalers or transformers are more appropriate. The behaviors of the different scalers, transformers, and normalizers on a dataset containing marginal outliers is highlighted in Compare the effect of different scalers on data with outliers."
   ]
  },
  {
   "cell_type": "markdown",
   "metadata": {
    "scrolled": true
   },
   "source": [
    "<img src=\"https://i.ibb.co/5hdmVRL/2.jpg\" alt=\"2\" border=\"0\">"
   ]
  },
  {
   "cell_type": "markdown",
   "metadata": {},
   "source": [
    "Even after scaling all the variables are not distributed normally: because they data values may be sparsely distributed. So, need of principal components: Reducing attributes and capturing the same variance from the original data."
   ]
  },
  {
   "cell_type": "markdown",
   "metadata": {
    "scrolled": true
   },
   "source": [
    "<img src=\"https://i.ibb.co/GP7Y4W2/3.jpg\" alt=\"3\" border=\"0\">"
   ]
  },
  {
   "cell_type": "markdown",
   "metadata": {},
   "source": [
    "After performing PCA, checking whether the co-relation exists using the graph.In the above case we can infer that we have uncorrelated Principle components."
   ]
  },
  {
   "cell_type": "markdown",
   "metadata": {
    "scrolled": true
   },
   "source": [
    "<img src=\"https://i.ibb.co/t3NHwQW/4.jpg\" alt=\"4\" border=\"0\">"
   ]
  },
  {
   "cell_type": "markdown",
   "metadata": {},
   "source": [
    "Outlier problem is solved by PCA."
   ]
  },
  {
   "cell_type": "markdown",
   "metadata": {
    "scrolled": true
   },
   "source": [
    "<img src=\"https://i.ibb.co/bgGbsGW/3.jpg\" alt=\"3\" border=\"0\">"
   ]
  },
  {
   "cell_type": "markdown",
   "metadata": {},
   "source": [
    "Density Plot after PCA:\n",
    "- Both Closely Follow normal distruibution\n",
    "- PCA solves normal distribution problem as wel"
   ]
  },
  {
   "cell_type": "markdown",
   "metadata": {
    "scrolled": true
   },
   "source": [
    "<img src=\"https://i.ibb.co/vQLnP9t/1.jpg\" alt=\"1\" border=\"0\">"
   ]
  },
  {
   "cell_type": "markdown",
   "metadata": {},
   "source": [
    "### 6 K-Means\n",
    "- The above code performs Standard normalization of data.It converts every column vector to the range, often between zero and one, or so that the maximum absolute value of each feature is scaled to unit size.\n",
    "\n",
    "- The Prinicpal Component analysis is utilized for eliminating dimensions.As all the data available is in different dimensions,PCA can be utilized to eliminate dimensions- number of components is given to be 2(dimensions)."
   ]
  },
  {
   "cell_type": "markdown",
   "metadata": {},
   "source": [
    "<img src=\"https://i.ibb.co/jzTpHRp/1.jpg\" alt=\"1\" border=\"0\">"
   ]
  },
  {
   "cell_type": "markdown",
   "metadata": {},
   "source": [
    "add colors for k-means groups to dataframe"
   ]
  },
  {
   "cell_type": "markdown",
   "metadata": {},
   "source": [
    "<img src=\"https://i.ibb.co/Zmv6mTq/2.jpg\" alt=\"2\" border=\"0\">"
   ]
  },
  {
   "cell_type": "markdown",
   "metadata": {},
   "source": [
    "Print k-means groups:"
   ]
  },
  {
   "cell_type": "markdown",
   "metadata": {},
   "source": [
    "<img src=\"https://i.ibb.co/swcRH1M/1.jpg\" alt=\"1\" border=\"0\">"
   ]
  },
  {
   "cell_type": "markdown",
   "metadata": {},
   "source": [
    "### K-Means visualization on italian provinces by weather (3 groups)"
   ]
  },
  {
   "cell_type": "markdown",
   "metadata": {},
   "source": [
    "<img src=\"https://i.ibb.co/cXfb04N/2.jpg\" alt=\"2\" border=\"0\" width=\"900px\">"
   ]
  },
  {
   "cell_type": "markdown",
   "metadata": {},
   "source": [
    "#### to be noted as the cities with the minimum and maximum temperatures are grouped in two different k-means categories (two colors)"
   ]
  },
  {
   "cell_type": "markdown",
   "metadata": {},
   "source": [
    "<img src=\"https://i.ibb.co/p1Q0Y5g/1.jpg\" alt=\"1\" border=\"0\">"
   ]
  },
  {
   "cell_type": "markdown",
   "metadata": {},
   "source": [
    "<img src=\"https://i.ibb.co/0GGDt8R/3.jpg\" alt=\"3\" border=\"0\" width=\"900px\">"
   ]
  },
  {
   "cell_type": "markdown",
   "metadata": {},
   "source": [
    "### 5 Results\n",
    "This demonstration of k-means helps us to have a confirmation of a **practical demonstration on the clear climatic differences by geographical area**, north, middle and south, foregone by displayed in practice. North is cold, middle moderate and and south hot."
   ]
  }
 ],
 "metadata": {
  "kernelspec": {
   "display_name": "Python 3",
   "language": "python",
   "name": "python3"
  },
  "language_info": {
   "codemirror_mode": {
    "name": "ipython",
    "version": 3
   },
   "file_extension": ".py",
   "mimetype": "text/x-python",
   "name": "python",
   "nbconvert_exporter": "python",
   "pygments_lexer": "ipython3",
   "version": "3.7.0"
  }
 },
 "nbformat": 4,
 "nbformat_minor": 2
}
